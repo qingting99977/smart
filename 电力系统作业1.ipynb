{
 "cells": [
  {
   "cell_type": "code",
   "id": "initial_id",
   "metadata": {
    "collapsed": true,
    "ExecuteTime": {
     "end_time": "2025-09-29T07:58:32.484665Z",
     "start_time": "2025-09-29T07:58:32.257131Z"
    }
   },
   "source": "import numpy as np",
   "outputs": [],
   "execution_count": 1
  },
  {
   "metadata": {
    "ExecuteTime": {
     "end_time": "2025-09-29T07:58:49.434270Z",
     "start_time": "2025-09-29T07:58:49.426348Z"
    }
   },
   "cell_type": "code",
   "source": "",
   "id": "bb04c5fa8ef884e9",
   "outputs": [
    {
     "ename": "SyntaxError",
     "evalue": "invalid decimal literal (2355844669.py, line 1)",
     "output_type": "error",
     "traceback": [
      "\u001B[1;36m  Cell \u001B[1;32mIn[4], line 1\u001B[1;36m\u001B[0m\n\u001B[1;33m    (1+5i)/2\u001B[0m\n\u001B[1;37m       ^\u001B[0m\n\u001B[1;31mSyntaxError\u001B[0m\u001B[1;31m:\u001B[0m invalid decimal literal\n"
     ]
    }
   ],
   "execution_count": 4
  },
  {
   "metadata": {},
   "cell_type": "markdown",
   "source": "# 题目1",
   "id": "ffee12840dcf5314"
  },
  {
   "metadata": {
    "ExecuteTime": {
     "end_time": "2025-09-29T14:28:35.533261Z",
     "start_time": "2025-09-29T14:28:35.521676Z"
    }
   },
   "cell_type": "code",
   "source": [
    "r=0.0121\n",
    "d=6\n",
    "s=80\n",
    "p=31.5#查询电阻率等于28.78\n",
    "deq=np.power((2*d*d*d),1/3)\n",
    "r=p*1/s\n",
    "x=0.1447*np.log10(deq/r)+0.0157\n",
    "b=7.58e-6/(np.log10(deq/r))\n",
    "print(f'电阻R={r},电抗X={x}，电纳={b}')"
   ],
   "id": "87a1b479f900b878",
   "outputs": [
    {
     "name": "stdout",
     "output_type": "stream",
     "text": [
      "电阻R=0.39375,电抗X=0.20138975003908494，电纳=5.906766527334623e-06\n"
     ]
    }
   ],
   "execution_count": 63
  },
  {
   "metadata": {},
   "cell_type": "markdown",
   "source": "# 题目2",
   "id": "845e46adf54c98b5"
  },
  {
   "metadata": {
    "ExecuteTime": {
     "end_time": "2025-09-29T14:45:40.746147Z",
     "start_time": "2025-09-29T14:45:40.735712Z"
    }
   },
   "cell_type": "code",
   "source": [
    "r=0.015\n",
    "d1=12.2\n",
    "d2=8.4\n",
    "d3=np.sqrt((d1/2)**2+d2**2)\n",
    "deq=np.power((d1*d3*d3),1/3)\n",
    "req=np.sqrt(r*0.6)\n",
    "x1=0.1445*np.log10(deq/req)+0.0157/2\n",
    "b1=7.58e-6/(np.log10(deq/req))\n",
    "r1=p*1/s\n",
    "print(f'电阻R={r1},电抗X={x1}，电纳={b1}')\n",
    "print(f'电容C={b/(2*np.pi*50)}')"
   ],
   "id": "39922530cd1f0549",
   "outputs": [
    {
     "name": "stdout",
     "output_type": "stream",
     "text": [
      "电阻R=0.39375,电抗X=0.30588095856145997，电纳=3.6751551090090028e-06\n",
      "电容C=1.8801821810301083e-08\n"
     ]
    }
   ],
   "execution_count": 74
  },
  {
   "metadata": {
    "ExecuteTime": {
     "end_time": "2025-09-29T08:51:26.668771Z",
     "start_time": "2025-09-29T08:51:26.658626Z"
    }
   },
   "cell_type": "code",
   "source": "d3",
   "id": "756870239c46ec15",
   "outputs": [
    {
     "data": {
      "text/plain": [
       "14.812157169028419"
      ]
     },
     "execution_count": 14,
     "metadata": {},
     "output_type": "execute_result"
    }
   ],
   "execution_count": 14
  },
  {
   "metadata": {},
   "cell_type": "markdown",
   "source": "# 题目3",
   "id": "55e24b48b54369d0"
  },
  {
   "metadata": {
    "ExecuteTime": {
     "end_time": "2025-09-29T14:04:27.392354Z",
     "start_time": "2025-09-29T14:04:27.381972Z"
    }
   },
   "cell_type": "code",
   "source": [
    "p=31.5\n",
    "s=400*3  #这个地方的面积要乘以3！！，不然会有问题\n",
    "r=0.0136 #查表\n",
    "d1=12\n",
    "deq=np.power((2*d1*d1*d1),1/3)\n",
    "req=np.power((r*0.4*0.4),1/3)\n",
    "x1=0.1445*np.log10(deq/req)+0.0157/3\n",
    "b1=7.58e-6/(np.log10(deq/req))\n",
    "r1=p/s\n",
    "'不考虑分布'\n",
    "l=500\n",
    "r0=r1*l\n",
    "x0=x1*l\n",
    "b0=b1*l\n",
    "print(f'不考虑分布下的 阻抗为{complex(r0,x0)}，电纳={b0}')\n",
    "'考虑分布近似'\n",
    "kr=1-(1/3)*x1*b1*l*l\n",
    "kx=1-(1/6)*(x1*b1-r1*r1*b1/x1)*l*l\n",
    "kb=1+(1/12)*x1*b1*l*l\n",
    "r2=kr*r0\n",
    "x2=x0*kx\n",
    "b2=b0*kb\n",
    "print(f'考虑分布下的近似 阻抗为{complex(r2,x2)},电纳={b2}')\n",
    "'精确求解'\n",
    "import math as m\n",
    "z1=complex(r1,x1)\n",
    "y1=complex(0,b1)\n",
    "y=np.sqrt(z1*y1)\n",
    "K1=np.sinh(y*l)\n",
    "K2=np.tanh(y*l/2)\n",
    "zc=np.sqrt(complex(r1,x1)/complex(0,b1))\n",
    "z=K1*zc\n",
    "b3=K2*2/zc\n",
    "print(f'考虑分布下的准确 阻抗Z={z},电纳={b3}')"
   ],
   "id": "d9f433115ddd1b9",
   "outputs": [
    {
     "name": "stdout",
     "output_type": "stream",
     "text": [
      "不考虑分布下的 阻抗为(13.125+151.95536579696883j)，电纳=0.001833600410306761\n",
      "考虑分布下的近似 阻抗为(11.906013782802843+144.95157222048599j),电纳=0.001876174384173637\n",
      "考虑分布下的准确 阻抗Z=(11.93120091284043+145.04705649668603j),电纳=(3.891183670328455e-06+0.0018773853767456623j)\n"
     ]
    }
   ],
   "execution_count": 57
  },
  {
   "metadata": {
    "ExecuteTime": {
     "end_time": "2025-09-29T14:09:29.576059Z",
     "start_time": "2025-09-29T14:09:29.564638Z"
    }
   },
   "cell_type": "code",
   "source": "r1",
   "id": "8b0ab328e4ad349e",
   "outputs": [
    {
     "data": {
      "text/plain": [
       "0.02625"
      ]
     },
     "execution_count": 62,
     "metadata": {},
     "output_type": "execute_result"
    }
   ],
   "execution_count": 62
  },
  {
   "metadata": {
    "ExecuteTime": {
     "end_time": "2025-09-29T09:19:07.187529Z",
     "start_time": "2025-09-29T09:19:07.174480Z"
    }
   },
   "cell_type": "code",
   "source": "deq",
   "id": "dcef5ab93d98a10f",
   "outputs": [
    {
     "data": {
      "text/plain": [
       "15.119052598738476"
      ]
     },
     "execution_count": 44,
     "metadata": {},
     "output_type": "execute_result"
    }
   ],
   "execution_count": 44
  },
  {
   "metadata": {
    "ExecuteTime": {
     "end_time": "2025-09-29T09:19:17.272626Z",
     "start_time": "2025-09-29T09:19:17.262999Z"
    }
   },
   "cell_type": "code",
   "source": "req",
   "id": "6c74cda7e6b35548",
   "outputs": [
    {
     "data": {
      "text/plain": [
       "0.12958447205109935"
      ]
     },
     "execution_count": 45,
     "metadata": {},
     "output_type": "execute_result"
    }
   ],
   "execution_count": 45
  },
  {
   "metadata": {},
   "cell_type": "code",
   "outputs": [],
   "execution_count": null,
   "source": "",
   "id": "aade5b6b3836c345"
  }
 ],
 "metadata": {
  "kernelspec": {
   "display_name": "Python 3",
   "language": "python",
   "name": "python3"
  },
  "language_info": {
   "codemirror_mode": {
    "name": "ipython",
    "version": 2
   },
   "file_extension": ".py",
   "mimetype": "text/x-python",
   "name": "python",
   "nbconvert_exporter": "python",
   "pygments_lexer": "ipython2",
   "version": "2.7.6"
  }
 },
 "nbformat": 4,
 "nbformat_minor": 5
}
